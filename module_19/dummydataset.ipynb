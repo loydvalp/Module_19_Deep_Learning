{
 "cells": [
  {
   "cell_type": "code",
   "execution_count": 1,
   "metadata": {},
   "outputs": [],
   "source": [
    "# Import our dependencies\n",
    "import pandas as pd\n",
    "import matplotlib as plt\n",
    "from sklearn.datasets import make_blobs\n",
    "import sklearn as skl\n",
    "import tensorflow as tf"
   ]
  },
  {
   "cell_type": "code",
   "execution_count": 2,
   "metadata": {},
   "outputs": [
    {
     "data": {
      "text/plain": [
       "<matplotlib.axes._subplots.AxesSubplot at 0x21eee57fe20>"
      ]
     },
     "execution_count": 2,
     "metadata": {},
     "output_type": "execute_result"
    },
    {
     "data": {
      "image/png": "[encoded data removed]",
      "text/plain": [
       "<Figure size 432x288 with 2 Axes>"
      ]
     },
     "metadata": {
      "needs_background": "light"
     },
     "output_type": "display_data"
    }
   ],
   "source": [
    "# Generate dummy dataset\n",
    "X, y = make_blobs(n_samples=1000, centers=2, n_features=2, random_state=78)\n",
    "\n",
    "# Creating a DataFrame with the dummy data\n",
    "df = pd.DataFrame(X, columns=[\"Feature 1\", \"Feature 2\"])\n",
    "df[\"Target\"] = y\n",
    "\n",
    "# Plotting the dummy data\n",
    "df.plot.scatter(x=\"Feature 1\", y=\"Feature 2\", c=\"Target\", colormap=\"winter\")"
   ]
  },
  {
   "cell_type": "code",
   "execution_count": 3,
   "metadata": {},
   "outputs": [],
   "source": [
    "# Use sklearn to split dataset\n",
    "from sklearn.model_selection import train_test_split\n",
    "X_train, X_test, y_train, y_test = train_test_split(X, y, random_state=78)"
   ]
  },
  {
   "cell_type": "code",
   "execution_count": 4,
   "metadata": {},
   "outputs": [],
   "source": [
    "# Create scaler instance\n",
    "X_scaler = skl.preprocessing.StandardScaler()\n",
    "\n",
    "# Fit the scaler\n",
    "X_scaler.fit(X_train)\n",
    "\n",
    "# Scale the data\n",
    "X_train_scaled = X_scaler.transform(X_train)\n",
    "X_test_scaled = X_scaler.transform(X_test)"
   ]
  },
  {
   "cell_type": "code",
   "execution_count": 5,
   "metadata": {},
   "outputs": [],
   "source": [
    "# Create the Keras Sequential model\n",
    "nn_model = tf.keras.models.Sequential()"
   ]
  },
  {
   "cell_type": "code",
   "execution_count": 6,
   "metadata": {},
   "outputs": [],
   "source": [
    "# Add our first Dense layer, including the input layer\n",
    "nn_model.add(tf.keras.layers.Dense(units=1, activation=\"relu\", input_dim=2))"
   ]
  },
  {
   "cell_type": "code",
   "execution_count": 7,
   "metadata": {},
   "outputs": [],
   "source": [
    "# Add the output layer that uses a probability activation function\n",
    "nn_model.add(tf.keras.layers.Dense(units=1, activation=\"sigmoid\"))"
   ]
  },
  {
   "cell_type": "code",
   "execution_count": 8,
   "metadata": {},
   "outputs": [
    {
     "name": "stdout",
     "output_type": "stream",
     "text": [
      "Model: \"sequential\"\n",
      "_________________________________________________________________\n",
      "Layer (type)                 Output Shape              Param #   \n",
      "=================================================================\n",
      "dense (Dense)                (None, 1)                 3         \n",
      "_________________________________________________________________\n",
      "dense_1 (Dense)              (None, 1)                 2         \n",
      "=================================================================\n",
      "Total params: 5\n",
      "Trainable params: 5\n",
      "Non-trainable params: 0\n",
      "_________________________________________________________________\n"
     ]
    }
   ],
   "source": [
    "# Check the structure of the Sequential model\n",
    "nn_model.summary()"
   ]
  },
  {
   "cell_type": "code",
   "execution_count": 9,
   "metadata": {},
   "outputs": [],
   "source": [
    "# Compile the Sequential model together and customize metrics\n",
    "nn_model.compile(loss=\"binary_crossentropy\", optimizer=\"adam\", metrics=[\"accuracy\"])"
   ]
  },
  {
   "cell_type": "code",
   "execution_count": 10,
   "metadata": {},
   "outputs": [
    {
     "name": "stdout",
     "output_type": "stream",
     "text": [
      "Epoch 1/100\n",
      " 1/24 [>.............................] - ETA: 0s - loss: 1.1096 - accuracy: 0.0312WARNING:tensorflow:Callbacks method `on_train_batch_begin` is slow compared to the batch time (batch time: 0.0000s vs `on_train_batch_begin` time: 0.0010s). Check your callbacks.\n",
      "24/24 [==============================] - 0s 873us/step - loss: 1.1563 - accuracy: 0.0187\n",
      "Epoch 2/100\n",
      "24/24 [==============================] - 0s 665us/step - loss: 1.1183 - accuracy: 0.0187\n",
      "Epoch 3/100\n",
      "24/24 [==============================] - 0s 708us/step - loss: 1.0837 - accuracy: 0.0187\n",
      "Epoch 4/100\n",
      "24/24 [==============================] - 0s 664us/step - loss: 1.0518 - accuracy: 0.0213\n",
      "Epoch 5/100\n",
      "24/24 [==============================] - 0s 1ms/step - loss: 1.0221 - accuracy: 0.0213\n",
      "Epoch 6/100\n",
      "24/24 [==============================] - 0s 791us/step - loss: 0.9951 - accuracy: 0.0227\n",
      "Epoch 7/100\n",
      "24/24 [==============================] - 0s 706us/step - loss: 0.9708 - accuracy: 0.0253\n",
      "Epoch 8/100\n",
      "24/24 [==============================] - 0s 707us/step - loss: 0.9480 - accuracy: 0.0280\n",
      "Epoch 9/100\n",
      "24/24 [==============================] - 0s 705us/step - loss: 0.9277 - accuracy: 0.0347\n",
      "Epoch 10/100\n",
      "24/24 [==============================] - 0s 665us/step - loss: 0.9085 - accuracy: 0.0467\n",
      "Epoch 11/100\n",
      "24/24 [==============================] - 0s 748us/step - loss: 0.8916 - accuracy: 0.0493\n",
      "Epoch 12/100\n",
      "24/24 [==============================] - 0s 623us/step - loss: 0.8758 - accuracy: 0.0560\n",
      "Epoch 13/100\n",
      "24/24 [==============================] - 0s 665us/step - loss: 0.8613 - accuracy: 0.0680\n",
      "Epoch 14/100\n",
      "24/24 [==============================] - 0s 664us/step - loss: 0.8483 - accuracy: 0.0773\n",
      "Epoch 15/100\n",
      "24/24 [==============================] - 0s 788us/step - loss: 0.8361 - accuracy: 0.0867\n",
      "Epoch 16/100\n",
      "24/24 [==============================] - 0s 706us/step - loss: 0.8251 - accuracy: 0.0947\n",
      "Epoch 17/100\n",
      "24/24 [==============================] - 0s 665us/step - loss: 0.8149 - accuracy: 0.1093\n",
      "Epoch 18/100\n",
      "24/24 [==============================] - 0s 748us/step - loss: 0.8056 - accuracy: 0.1147\n",
      "Epoch 19/100\n",
      "24/24 [==============================] - 0s 622us/step - loss: 0.7970 - accuracy: 0.1293\n",
      "Epoch 20/100\n",
      "24/24 [==============================] - 0s 748us/step - loss: 0.7894 - accuracy: 0.1453\n",
      "Epoch 21/100\n",
      "24/24 [==============================] - 0s 748us/step - loss: 0.7821 - accuracy: 0.1653\n",
      "Epoch 22/100\n",
      "24/24 [==============================] - 0s 665us/step - loss: 0.7755 - accuracy: 0.1733\n",
      "Epoch 23/100\n",
      "24/24 [==============================] - 0s 748us/step - loss: 0.7695 - accuracy: 0.1880\n",
      "Epoch 24/100\n",
      "24/24 [==============================] - 0s 706us/step - loss: 0.7637 - accuracy: 0.2000\n",
      "Epoch 25/100\n",
      "24/24 [==============================] - 0s 1ms/step - loss: 0.7585 - accuracy: 0.2093\n",
      "Epoch 26/100\n",
      "24/24 [==============================] - 0s 988us/step - loss: 0.7537 - accuracy: 0.2253\n",
      "Epoch 27/100\n",
      "24/24 [==============================] - 0s 1ms/step - loss: 0.7492 - accuracy: 0.2400\n",
      "Epoch 28/100\n",
      "24/24 [==============================] - 0s 2ms/step - loss: 0.7451 - accuracy: 0.2520\n",
      "Epoch 29/100\n",
      "24/24 [==============================] - 0s 665us/step - loss: 0.7412 - accuracy: 0.2600\n",
      "Epoch 30/100\n",
      "24/24 [==============================] - 0s 540us/step - loss: 0.7376 - accuracy: 0.2813\n",
      "Epoch 31/100\n",
      "24/24 [==============================] - 0s 665us/step - loss: 0.7343 - accuracy: 0.2907\n",
      "Epoch 32/100\n",
      "24/24 [==============================] - 0s 540us/step - loss: 0.7312 - accuracy: 0.3053\n",
      "Epoch 33/100\n",
      "24/24 [==============================] - 0s 623us/step - loss: 0.7283 - accuracy: 0.3187\n",
      "Epoch 34/100\n",
      "24/24 [==============================] - 0s 582us/step - loss: 0.7257 - accuracy: 0.3280\n",
      "Epoch 35/100\n",
      "24/24 [==============================] - 0s 665us/step - loss: 0.7232 - accuracy: 0.3427\n",
      "Epoch 36/100\n",
      "24/24 [==============================] - 0s 582us/step - loss: 0.7209 - accuracy: 0.3520\n",
      "Epoch 37/100\n",
      "24/24 [==============================] - 0s 623us/step - loss: 0.7187 - accuracy: 0.3573\n",
      "Epoch 38/100\n",
      "24/24 [==============================] - 0s 540us/step - loss: 0.7168 - accuracy: 0.3640\n",
      "Epoch 39/100\n",
      "24/24 [==============================] - 0s 582us/step - loss: 0.7149 - accuracy: 0.3800\n",
      "Epoch 40/100\n",
      "24/24 [==============================] - 0s 665us/step - loss: 0.7132 - accuracy: 0.3840\n",
      "Epoch 41/100\n",
      "24/24 [==============================] - 0s 582us/step - loss: 0.7117 - accuracy: 0.3907\n",
      "Epoch 42/100\n",
      "24/24 [==============================] - 0s 623us/step - loss: 0.7103 - accuracy: 0.4013\n",
      "Epoch 43/100\n",
      "24/24 [==============================] - 0s 623us/step - loss: 0.7089 - accuracy: 0.4093\n",
      "Epoch 44/100\n",
      "24/24 [==============================] - 0s 499us/step - loss: 0.7076 - accuracy: 0.4133\n",
      "Epoch 45/100\n",
      "24/24 [==============================] - 0s 540us/step - loss: 0.7065 - accuracy: 0.4173\n",
      "Epoch 46/100\n",
      "24/24 [==============================] - 0s 499us/step - loss: 0.7054 - accuracy: 0.4240\n",
      "Epoch 47/100\n",
      "24/24 [==============================] - 0s 499us/step - loss: 0.7044 - accuracy: 0.4293\n",
      "Epoch 48/100\n",
      "24/24 [==============================] - 0s 499us/step - loss: 0.7035 - accuracy: 0.4347\n",
      "Epoch 49/100\n",
      "24/24 [==============================] - 0s 499us/step - loss: 0.7026 - accuracy: 0.4387\n",
      "Epoch 50/100\n",
      "24/24 [==============================] - 0s 623us/step - loss: 0.7018 - accuracy: 0.4453\n",
      "Epoch 51/100\n",
      "24/24 [==============================] - 0s 582us/step - loss: 0.7012 - accuracy: 0.4533\n",
      "Epoch 52/100\n",
      "24/24 [==============================] - 0s 540us/step - loss: 0.7005 - accuracy: 0.4547\n",
      "Epoch 53/100\n",
      "24/24 [==============================] - 0s 665us/step - loss: 0.6998 - accuracy: 0.4573\n",
      "Epoch 54/100\n",
      "24/24 [==============================] - 0s 665us/step - loss: 0.6993 - accuracy: 0.4653\n",
      "Epoch 55/100\n",
      "24/24 [==============================] - 0s 540us/step - loss: 0.6988 - accuracy: 0.4707\n",
      "Epoch 56/100\n",
      "24/24 [==============================] - 0s 665us/step - loss: 0.6983 - accuracy: 0.4773\n",
      "Epoch 57/100\n",
      "24/24 [==============================] - 0s 582us/step - loss: 0.6979 - accuracy: 0.4800\n",
      "Epoch 58/100\n",
      "24/24 [==============================] - 0s 623us/step - loss: 0.6975 - accuracy: 0.4827\n",
      "Epoch 59/100\n",
      "24/24 [==============================] - 0s 582us/step - loss: 0.6971 - accuracy: 0.4840\n",
      "Epoch 60/100\n",
      "24/24 [==============================] - 0s 582us/step - loss: 0.6968 - accuracy: 0.4867\n",
      "Epoch 61/100\n",
      "24/24 [==============================] - 0s 540us/step - loss: 0.6965 - accuracy: 0.4867\n",
      "Epoch 62/100\n",
      "24/24 [==============================] - 0s 540us/step - loss: 0.6963 - accuracy: 0.4867\n",
      "Epoch 63/100\n",
      "24/24 [==============================] - 0s 582us/step - loss: 0.6960 - accuracy: 0.4893\n",
      "Epoch 64/100\n",
      "24/24 [==============================] - 0s 582us/step - loss: 0.6958 - accuracy: 0.4880\n",
      "Epoch 65/100\n",
      "24/24 [==============================] - 0s 540us/step - loss: 0.6955 - accuracy: 0.4920\n",
      "Epoch 66/100\n",
      "24/24 [==============================] - 0s 540us/step - loss: 0.6953 - accuracy: 0.4920\n",
      "Epoch 67/100\n",
      "24/24 [==============================] - 0s 540us/step - loss: 0.6951 - accuracy: 0.4920\n",
      "Epoch 68/100\n",
      "24/24 [==============================] - 0s 582us/step - loss: 0.6950 - accuracy: 0.4920\n",
      "Epoch 69/100\n",
      "24/24 [==============================] - 0s 623us/step - loss: 0.6948 - accuracy: 0.4933\n",
      "Epoch 70/100\n",
      "24/24 [==============================] - 0s 623us/step - loss: 0.6947 - accuracy: 0.4933\n",
      "Epoch 71/100\n",
      "24/24 [==============================] - 0s 540us/step - loss: 0.6946 - accuracy: 0.4947\n",
      "Epoch 72/100\n",
      "24/24 [==============================] - 0s 582us/step - loss: 0.6945 - accuracy: 0.4947\n",
      "Epoch 73/100\n",
      "24/24 [==============================] - 0s 540us/step - loss: 0.6944 - accuracy: 0.4947\n",
      "Epoch 74/100\n",
      "24/24 [==============================] - 0s 540us/step - loss: 0.6943 - accuracy: 0.4987\n",
      "Epoch 75/100\n",
      "24/24 [==============================] - 0s 540us/step - loss: 0.6941 - accuracy: 0.4987\n",
      "Epoch 76/100\n",
      "24/24 [==============================] - 0s 540us/step - loss: 0.6941 - accuracy: 0.4973\n",
      "Epoch 77/100\n",
      "24/24 [==============================] - 0s 582us/step - loss: 0.6940 - accuracy: 0.4987\n",
      "Epoch 78/100\n"
     ]
    },
    {
     "name": "stdout",
     "output_type": "stream",
     "text": [
      "24/24 [==============================] - 0s 582us/step - loss: 0.6939 - accuracy: 0.5000\n",
      "Epoch 79/100\n",
      "24/24 [==============================] - 0s 618us/step - loss: 0.6938 - accuracy: 0.4987\n",
      "Epoch 80/100\n",
      "24/24 [==============================] - 0s 582us/step - loss: 0.6938 - accuracy: 0.5000\n",
      "Epoch 81/100\n",
      "24/24 [==============================] - 0s 499us/step - loss: 0.6937 - accuracy: 0.5000\n",
      "Epoch 82/100\n",
      "24/24 [==============================] - 0s 540us/step - loss: 0.6937 - accuracy: 0.5000\n",
      "Epoch 83/100\n",
      "24/24 [==============================] - 0s 457us/step - loss: 0.6937 - accuracy: 0.5013\n",
      "Epoch 84/100\n",
      "24/24 [==============================] - 0s 540us/step - loss: 0.6936 - accuracy: 0.5000\n",
      "Epoch 85/100\n",
      "24/24 [==============================] - 0s 499us/step - loss: 0.6936 - accuracy: 0.5000\n",
      "Epoch 86/100\n",
      "24/24 [==============================] - 0s 540us/step - loss: 0.6935 - accuracy: 0.5013\n",
      "Epoch 87/100\n",
      "24/24 [==============================] - 0s 540us/step - loss: 0.6935 - accuracy: 0.5040\n",
      "Epoch 88/100\n",
      "24/24 [==============================] - 0s 499us/step - loss: 0.6935 - accuracy: 0.5040\n",
      "Epoch 89/100\n",
      "24/24 [==============================] - 0s 1ms/step - loss: 0.6934 - accuracy: 0.5040\n",
      "Epoch 90/100\n",
      "24/24 [==============================] - 0s 1ms/step - loss: 0.6934 - accuracy: 0.5027\n",
      "Epoch 91/100\n",
      "24/24 [==============================] - 0s 935us/step - loss: 0.6934 - accuracy: 0.5027\n",
      "Epoch 92/100\n",
      "24/24 [==============================] - 0s 1ms/step - loss: 0.6934 - accuracy: 0.5027\n",
      "Epoch 93/100\n",
      "24/24 [==============================] - 0s 582us/step - loss: 0.6934 - accuracy: 0.5040\n",
      "Epoch 94/100\n",
      "24/24 [==============================] - 0s 540us/step - loss: 0.6933 - accuracy: 0.5040\n",
      "Epoch 95/100\n",
      "24/24 [==============================] - 0s 540us/step - loss: 0.6934 - accuracy: 0.5040\n",
      "Epoch 96/100\n",
      "24/24 [==============================] - 0s 540us/step - loss: 0.6933 - accuracy: 0.5040\n",
      "Epoch 97/100\n",
      "24/24 [==============================] - 0s 540us/step - loss: 0.6933 - accuracy: 0.5040\n",
      "Epoch 98/100\n",
      "24/24 [==============================] - 0s 540us/step - loss: 0.6933 - accuracy: 0.5040\n",
      "Epoch 99/100\n",
      "24/24 [==============================] - 0s 582us/step - loss: 0.6933 - accuracy: 0.5040\n",
      "Epoch 100/100\n",
      "24/24 [==============================] - 0s 499us/step - loss: 0.6933 - accuracy: 0.5040\n"
     ]
    }
   ],
   "source": [
    "# Fit the model to the training data\n",
    "fit_model = nn_model.fit(X_train_scaled, y_train, epochs=100)"
   ]
  },
  {
   "cell_type": "code",
   "execution_count": 11,
   "metadata": {},
   "outputs": [
    {
     "data": {
      "text/plain": [
       "<matplotlib.axes._subplots.AxesSubplot at 0x21ef07ee730>"
      ]
     },
     "execution_count": 11,
     "metadata": {},
     "output_type": "execute_result"
    },
    {
     "data": {
      "image/png": "[encoded data removed]",
      "text/plain": [
       "<Figure size 432x288 with 1 Axes>"
      ]
     },
     "metadata": {
      "needs_background": "light"
     },
     "output_type": "display_data"
    }
   ],
   "source": [
    "# Create a DataFrame containing training history\n",
    "history_df = pd.DataFrame(fit_model.history, index=range(1,len(fit_model.history[\"loss\"])+1))\n",
    "\n",
    "# Plot the loss\n",
    "history_df.plot(y=\"loss\")"
   ]
  },
  {
   "cell_type": "code",
   "execution_count": 12,
   "metadata": {},
   "outputs": [
    {
     "data": {
      "text/plain": [
       "<matplotlib.axes._subplots.AxesSubplot at 0x21ef085e130>"
      ]
     },
     "execution_count": 12,
     "metadata": {},
     "output_type": "execute_result"
    },
    {
     "data": {
      "image/png": "[encoded data removed]",
      "text/plain": [
       "<Figure size 432x288 with 1 Axes>"
      ]
     },
     "metadata": {
      "needs_background": "light"
     },
     "output_type": "display_data"
    }
   ],
   "source": [
    "# Plot the accuracy\n",
    "history_df.plot(y=\"accuracy\")"
   ]
  },
  {
   "cell_type": "code",
   "execution_count": 13,
   "metadata": {},
   "outputs": [
    {
     "name": "stdout",
     "output_type": "stream",
     "text": [
      "WARNING:tensorflow:Callbacks method `on_test_batch_end` is slow compared to the batch time (batch time: 0.0000s vs `on_test_batch_end` time: 0.0010s). Check your callbacks.\n",
      "8/8 - 0s - loss: 0.6943 - accuracy: 0.4800\n",
      "Loss: 0.6943248510360718, Accuracy: 0.47999998927116394\n"
     ]
    }
   ],
   "source": [
    "# Evaluate the model using the test data\n",
    "model_loss, model_accuracy = nn_model.evaluate(X_test_scaled,y_test,verbose=2)\n",
    "print(f\"Loss: {model_loss}, Accuracy: {model_accuracy}\")"
   ]
  },
  {
   "cell_type": "code",
   "execution_count": 14,
   "metadata": {},
   "outputs": [
    {
     "name": "stdout",
     "output_type": "stream",
     "text": [
      "WARNING:tensorflow:From <ipython-input-14-25062c5bd63e>:4: Sequential.predict_classes (from tensorflow.python.keras.engine.sequential) is deprecated and will be removed after 2021-01-01.\n",
      "Instructions for updating:\n",
      "Please use instead:* `np.argmax(model.predict(x), axis=-1)`,   if your model does multi-class classification   (e.g. if it uses a `softmax` last-layer activation).* `(model.predict(x) > 0.5).astype(\"int32\")`,   if your model does binary classification   (e.g. if it uses a `sigmoid` last-layer activation).\n"
     ]
    },
    {
     "data": {
      "text/plain": [
       "array([[0],\n",
       "       [0],\n",
       "       [0],\n",
       "       [0],\n",
       "       [0],\n",
       "       [0],\n",
       "       [0],\n",
       "       [0],\n",
       "       [0],\n",
       "       [0]])"
      ]
     },
     "execution_count": 14,
     "metadata": {},
     "output_type": "execute_result"
    }
   ],
   "source": [
    "# Predict the classification of a new set of blob data\n",
    "new_X, new_Y = make_blobs(n_samples=10, centers=2, n_features=2, random_state=78)\n",
    "new_X_scaled = X_scaler.transform(new_X)\n",
    "nn_model.predict_classes(new_X_scaled)"
   ]
  },
  {
   "cell_type": "code",
   "execution_count": 15,
   "metadata": {},
   "outputs": [
    {
     "data": {
      "text/plain": [
       "<matplotlib.axes._subplots.AxesSubplot at 0x21ef18b2850>"
      ]
     },
     "execution_count": 15,
     "metadata": {},
     "output_type": "execute_result"
    },
    {
     "data": {
      "image/png": "[encoded data removed]",
      "text/plain": [
       "<Figure size 432x288 with 2 Axes>"
      ]
     },
     "metadata": {
      "needs_background": "light"
     },
     "output_type": "display_data"
    }
   ],
   "source": [
    "from sklearn.datasets import make_moons\n",
    "\n",
    "# Creating dummy nonlinear data\n",
    "X_moons, y_moons = make_moons(n_samples=1000, noise=0.08, random_state=78)\n",
    "\n",
    "# Transforming y_moons to a vertical vector\n",
    "y_moons = y_moons.reshape(-1, 1)\n",
    "\n",
    "# Creating a DataFrame to plot the nonlinear dummy data\n",
    "df_moons = pd.DataFrame(X_moons, columns=[\"Feature 1\", \"Feature 2\"])\n",
    "df_moons[\"Target\"] = y_moons\n",
    "\n",
    "# Plot the nonlinear dummy data\n",
    "df_moons.plot.scatter(x=\"Feature 1\",y=\"Feature 2\", c=\"Target\",colormap=\"winter\")"
   ]
  },
  {
   "cell_type": "code",
   "execution_count": 16,
   "metadata": {},
   "outputs": [],
   "source": [
    "# Create training and testing sets\n",
    "X_moon_train, X_moon_test, y_moon_train, y_moon_test = train_test_split(\n",
    "    X_moons, y_moons, random_state=78\n",
    ")\n",
    "\n",
    "# Create the scaler instance\n",
    "X_moon_scaler = skl.preprocessing.StandardScaler()\n",
    "\n",
    "# Fit the scaler\n",
    "X_moon_scaler.fit(X_moon_train)\n",
    "\n",
    "# Scale the data\n",
    "X_moon_train_scaled = X_moon_scaler.transform(X_moon_train)\n",
    "X_moon_test_scaled = X_moon_scaler.transform(X_moon_test)"
   ]
  },
  {
   "cell_type": "code",
   "execution_count": 17,
   "metadata": {},
   "outputs": [
    {
     "name": "stdout",
     "output_type": "stream",
     "text": [
      "Epoch 1/100\n",
      "24/24 [==============================] - 0s 997us/step - loss: 0.6923 - accuracy: 0.5307\n",
      "Epoch 2/100\n",
      "24/24 [==============================] - 0s 956us/step - loss: 0.6922 - accuracy: 0.5307\n",
      "Epoch 3/100\n",
      "24/24 [==============================] - 0s 997us/step - loss: 0.6920 - accuracy: 0.5307\n",
      "Epoch 4/100\n",
      "24/24 [==============================] - 0s 997us/step - loss: 0.6920 - accuracy: 0.5307\n",
      "Epoch 5/100\n",
      "24/24 [==============================] - 0s 997us/step - loss: 0.6919 - accuracy: 0.5307\n",
      "Epoch 6/100\n",
      "24/24 [==============================] - 0s 996us/step - loss: 0.6918 - accuracy: 0.5307\n",
      "Epoch 7/100\n",
      "24/24 [==============================] - 0s 956us/step - loss: 0.6917 - accuracy: 0.5307\n",
      "Epoch 8/100\n",
      "24/24 [==============================] - 0s 954us/step - loss: 0.6917 - accuracy: 0.5307\n",
      "Epoch 9/100\n",
      "24/24 [==============================] - 0s 1ms/step - loss: 0.6916 - accuracy: 0.5307\n",
      "Epoch 10/100\n",
      "24/24 [==============================] - 0s 1ms/step - loss: 0.6915 - accuracy: 0.5307\n",
      "Epoch 11/100\n",
      "24/24 [==============================] - 0s 914us/step - loss: 0.6915 - accuracy: 0.5307\n",
      "Epoch 12/100\n",
      "24/24 [==============================] - 0s 997us/step - loss: 0.6915 - accuracy: 0.5307\n",
      "Epoch 13/100\n",
      "24/24 [==============================] - 0s 1ms/step - loss: 0.6915 - accuracy: 0.5307\n",
      "Epoch 14/100\n",
      "24/24 [==============================] - 0s 997us/step - loss: 0.6914 - accuracy: 0.5307\n",
      "Epoch 15/100\n",
      "24/24 [==============================] - 0s 1ms/step - loss: 0.6914 - accuracy: 0.5307\n",
      "Epoch 16/100\n",
      "24/24 [==============================] - 0s 873us/step - loss: 0.6914 - accuracy: 0.5307\n",
      "Epoch 17/100\n",
      "24/24 [==============================] - 0s 1ms/step - loss: 0.6914 - accuracy: 0.5307\n",
      "Epoch 18/100\n",
      "24/24 [==============================] - 0s 2ms/step - loss: 0.6914 - accuracy: 0.5307\n",
      "Epoch 19/100\n",
      "24/24 [==============================] - 0s 997us/step - loss: 0.6914 - accuracy: 0.5307\n",
      "Epoch 20/100\n",
      "24/24 [==============================] - 0s 873us/step - loss: 0.6913 - accuracy: 0.5307\n",
      "Epoch 21/100\n",
      "24/24 [==============================] - 0s 830us/step - loss: 0.6913 - accuracy: 0.5307\n",
      "Epoch 22/100\n",
      "24/24 [==============================] - 0s 914us/step - loss: 0.6913 - accuracy: 0.5307\n",
      "Epoch 23/100\n",
      "24/24 [==============================] - 0s 1ms/step - loss: 0.6913 - accuracy: 0.5307\n",
      "Epoch 24/100\n",
      "24/24 [==============================] - 0s 1ms/step - loss: 0.6913 - accuracy: 0.5307\n",
      "Epoch 25/100\n",
      "24/24 [==============================] - 0s 914us/step - loss: 0.6913 - accuracy: 0.5307\n",
      "Epoch 26/100\n",
      "24/24 [==============================] - 0s 873us/step - loss: 0.6913 - accuracy: 0.5307\n",
      "Epoch 27/100\n",
      "24/24 [==============================] - 0s 914us/step - loss: 0.6913 - accuracy: 0.5307\n",
      "Epoch 28/100\n",
      "24/24 [==============================] - 0s 997us/step - loss: 0.6912 - accuracy: 0.5307\n",
      "Epoch 29/100\n",
      "24/24 [==============================] - 0s 1ms/step - loss: 0.6912 - accuracy: 0.5307\n",
      "Epoch 30/100\n",
      "24/24 [==============================] - 0s 956us/step - loss: 0.6912 - accuracy: 0.5307\n",
      "Epoch 31/100\n",
      "24/24 [==============================] - 0s 997us/step - loss: 0.6912 - accuracy: 0.5307\n",
      "Epoch 32/100\n",
      "24/24 [==============================] - 0s 977us/step - loss: 0.6912 - accuracy: 0.5307\n",
      "Epoch 33/100\n",
      "24/24 [==============================] - 0s 872us/step - loss: 0.6911 - accuracy: 0.5307\n",
      "Epoch 34/100\n",
      "24/24 [==============================] - 0s 997us/step - loss: 0.6911 - accuracy: 0.5307\n",
      "Epoch 35/100\n",
      "24/24 [==============================] - 0s 997us/step - loss: 0.6910 - accuracy: 0.5307\n",
      "Epoch 36/100\n",
      "24/24 [==============================] - 0s 956us/step - loss: 0.6909 - accuracy: 0.5307\n",
      "Epoch 37/100\n",
      "24/24 [==============================] - 0s 997us/step - loss: 0.6908 - accuracy: 0.5307\n",
      "Epoch 38/100\n",
      "24/24 [==============================] - 0s 956us/step - loss: 0.6907 - accuracy: 0.5307\n",
      "Epoch 39/100\n",
      "24/24 [==============================] - 0s 1ms/step - loss: 0.6905 - accuracy: 0.5307\n",
      "Epoch 40/100\n",
      "24/24 [==============================] - 0s 997us/step - loss: 0.6903 - accuracy: 0.5307\n",
      "Epoch 41/100\n",
      "24/24 [==============================] - 0s 831us/step - loss: 0.6900 - accuracy: 0.5307\n",
      "Epoch 42/100\n",
      "24/24 [==============================] - 0s 956us/step - loss: 0.6895 - accuracy: 0.5307\n",
      "Epoch 43/100\n",
      "24/24 [==============================] - 0s 873us/step - loss: 0.6890 - accuracy: 0.5307\n",
      "Epoch 44/100\n",
      "24/24 [==============================] - 0s 1ms/step - loss: 0.6883 - accuracy: 0.5307\n",
      "Epoch 45/100\n",
      "24/24 [==============================] - 0s 873us/step - loss: 0.6875 - accuracy: 0.5307\n",
      "Epoch 46/100\n",
      "24/24 [==============================] - 0s 956us/step - loss: 0.6863 - accuracy: 0.5307\n",
      "Epoch 47/100\n",
      "24/24 [==============================] - 0s 989us/step - loss: 0.6849 - accuracy: 0.5320\n",
      "Epoch 48/100\n",
      "24/24 [==============================] - 0s 956us/step - loss: 0.6830 - accuracy: 0.5347\n",
      "Epoch 49/100\n",
      "24/24 [==============================] - 0s 914us/step - loss: 0.6806 - accuracy: 0.5720\n",
      "Epoch 50/100\n",
      "24/24 [==============================] - 0s 914us/step - loss: 0.6775 - accuracy: 0.6160\n",
      "Epoch 51/100\n",
      "24/24 [==============================] - 0s 853us/step - loss: 0.6735 - accuracy: 0.6707\n",
      "Epoch 52/100\n",
      "24/24 [==============================] - 0s 956us/step - loss: 0.6684 - accuracy: 0.7147\n",
      "Epoch 53/100\n",
      "24/24 [==============================] - 0s 914us/step - loss: 0.6621 - accuracy: 0.7427\n",
      "Epoch 54/100\n",
      "24/24 [==============================] - 0s 956us/step - loss: 0.6543 - accuracy: 0.7787\n",
      "Epoch 55/100\n",
      "24/24 [==============================] - 0s 997us/step - loss: 0.6449 - accuracy: 0.8000\n",
      "Epoch 56/100\n",
      "24/24 [==============================] - 0s 873us/step - loss: 0.6336 - accuracy: 0.8160\n",
      "Epoch 57/100\n",
      "24/24 [==============================] - 0s 2ms/step - loss: 0.6208 - accuracy: 0.8293\n",
      "Epoch 58/100\n",
      "24/24 [==============================] - 0s 914us/step - loss: 0.6063 - accuracy: 0.8413\n",
      "Epoch 59/100\n",
      "24/24 [==============================] - 0s 831us/step - loss: 0.5904 - accuracy: 0.8507\n",
      "Epoch 60/100\n",
      "24/24 [==============================] - 0s 873us/step - loss: 0.5740 - accuracy: 0.8627\n",
      "Epoch 61/100\n",
      "24/24 [==============================] - 0s 790us/step - loss: 0.5573 - accuracy: 0.8747\n",
      "Epoch 62/100\n",
      "24/24 [==============================] - 0s 956us/step - loss: 0.5414 - accuracy: 0.8813\n",
      "Epoch 63/100\n",
      "24/24 [==============================] - 0s 872us/step - loss: 0.5263 - accuracy: 0.8867\n",
      "Epoch 64/100\n",
      "24/24 [==============================] - 0s 873us/step - loss: 0.5119 - accuracy: 0.8893\n",
      "Epoch 65/100\n",
      "24/24 [==============================] - 0s 914us/step - loss: 0.4989 - accuracy: 0.8893\n",
      "Epoch 66/100\n",
      "24/24 [==============================] - 0s 873us/step - loss: 0.4867 - accuracy: 0.8907\n",
      "Epoch 67/100\n",
      "24/24 [==============================] - 0s 997us/step - loss: 0.4756 - accuracy: 0.8867\n",
      "Epoch 68/100\n",
      "24/24 [==============================] - 0s 2ms/step - loss: 0.4655 - accuracy: 0.8893\n",
      "Epoch 69/100\n",
      "24/24 [==============================] - 0s 3ms/step - loss: 0.4561 - accuracy: 0.8880\n",
      "Epoch 70/100\n",
      "24/24 [==============================] - 0s 1ms/step - loss: 0.4474 - accuracy: 0.8880\n",
      "Epoch 71/100\n",
      "24/24 [==============================] - 0s 831us/step - loss: 0.4393 - accuracy: 0.8880\n",
      "Epoch 72/100\n",
      "24/24 [==============================] - 0s 914us/step - loss: 0.4319 - accuracy: 0.8880\n",
      "Epoch 73/100\n",
      "24/24 [==============================] - 0s 914us/step - loss: 0.4249 - accuracy: 0.8893\n",
      "Epoch 74/100\n",
      "24/24 [==============================] - 0s 873us/step - loss: 0.4184 - accuracy: 0.8867\n",
      "Epoch 75/100\n",
      "24/24 [==============================] - 0s 831us/step - loss: 0.4124 - accuracy: 0.8880\n",
      "Epoch 76/100\n",
      "24/24 [==============================] - 0s 873us/step - loss: 0.4068 - accuracy: 0.8880\n",
      "Epoch 77/100\n",
      "24/24 [==============================] - 0s 873us/step - loss: 0.4014 - accuracy: 0.8867\n",
      "Epoch 78/100\n",
      "24/24 [==============================] - 0s 873us/step - loss: 0.3965 - accuracy: 0.8853\n",
      "Epoch 79/100\n",
      "24/24 [==============================] - 0s 997us/step - loss: 0.3920 - accuracy: 0.8853\n",
      "Epoch 80/100\n",
      "24/24 [==============================] - 0s 873us/step - loss: 0.3874 - accuracy: 0.8880\n",
      "Epoch 81/100\n"
     ]
    },
    {
     "name": "stdout",
     "output_type": "stream",
     "text": [
      "24/24 [==============================] - 0s 1ms/step - loss: 0.3832 - accuracy: 0.8867\n",
      "Epoch 82/100\n",
      "24/24 [==============================] - 0s 2ms/step - loss: 0.3792 - accuracy: 0.8867\n",
      "Epoch 83/100\n",
      "24/24 [==============================] - 0s 997us/step - loss: 0.3755 - accuracy: 0.8880\n",
      "Epoch 84/100\n",
      "24/24 [==============================] - 0s 873us/step - loss: 0.3719 - accuracy: 0.8880\n",
      "Epoch 85/100\n",
      "24/24 [==============================] - 0s 956us/step - loss: 0.3685 - accuracy: 0.8880\n",
      "Epoch 86/100\n",
      "24/24 [==============================] - 0s 956us/step - loss: 0.3652 - accuracy: 0.8880\n",
      "Epoch 87/100\n",
      "24/24 [==============================] - 0s 789us/step - loss: 0.3622 - accuracy: 0.8880\n",
      "Epoch 88/100\n",
      "24/24 [==============================] - 0s 790us/step - loss: 0.3591 - accuracy: 0.8880\n",
      "Epoch 89/100\n",
      "24/24 [==============================] - 0s 789us/step - loss: 0.3563 - accuracy: 0.8880\n",
      "Epoch 90/100\n",
      "24/24 [==============================] - 0s 873us/step - loss: 0.3537 - accuracy: 0.8880\n",
      "Epoch 91/100\n",
      "24/24 [==============================] - 0s 748us/step - loss: 0.3510 - accuracy: 0.8893\n",
      "Epoch 92/100\n",
      "24/24 [==============================] - 0s 753us/step - loss: 0.3485 - accuracy: 0.8893\n",
      "Epoch 93/100\n",
      "24/24 [==============================] - 0s 873us/step - loss: 0.3461 - accuracy: 0.8893\n",
      "Epoch 94/100\n",
      "24/24 [==============================] - 0s 873us/step - loss: 0.3438 - accuracy: 0.8907\n",
      "Epoch 95/100\n",
      "24/24 [==============================] - 0s 997us/step - loss: 0.3417 - accuracy: 0.8907\n",
      "Epoch 96/100\n",
      "24/24 [==============================] - 0s 791us/step - loss: 0.3395 - accuracy: 0.8920\n",
      "Epoch 97/100\n",
      "24/24 [==============================] - 0s 914us/step - loss: 0.3374 - accuracy: 0.8920\n",
      "Epoch 98/100\n",
      "24/24 [==============================] - 0s 831us/step - loss: 0.3354 - accuracy: 0.8920\n",
      "Epoch 99/100\n",
      "24/24 [==============================] - 0s 873us/step - loss: 0.3335 - accuracy: 0.8920\n",
      "Epoch 100/100\n",
      "24/24 [==============================] - 0s 831us/step - loss: 0.3316 - accuracy: 0.8920\n"
     ]
    }
   ],
   "source": [
    "# Training the model with the nonlinear data\n",
    "model_moon = nn_model.fit(X_moon_train_scaled, y_moon_train, epochs=100, shuffle=True)"
   ]
  },
  {
   "cell_type": "code",
   "execution_count": 18,
   "metadata": {},
   "outputs": [
    {
     "data": {
      "text/plain": [
       "<matplotlib.axes._subplots.AxesSubplot at 0x21ef1b9d430>"
      ]
     },
     "execution_count": 18,
     "metadata": {},
     "output_type": "execute_result"
    },
    {
     "data": {
      "image/png": "[encoded data removed]",
      "text/plain": [
       "<Figure size 432x288 with 1 Axes>"
      ]
     },
     "metadata": {
      "needs_background": "light"
     },
     "output_type": "display_data"
    }
   ],
   "source": [
    "# Create a DataFrame containing training history\n",
    "history_df = pd.DataFrame(model_moon.history, index=range(1,len(model_moon.history[\"loss\"])+1))\n",
    "\n",
    "# Plot the loss\n",
    "history_df.plot(y=\"loss\")"
   ]
  },
  {
   "cell_type": "code",
   "execution_count": 19,
   "metadata": {},
   "outputs": [
    {
     "data": {
      "text/plain": [
       "<matplotlib.axes._subplots.AxesSubplot at 0x21ef07d9c10>"
      ]
     },
     "execution_count": 19,
     "metadata": {},
     "output_type": "execute_result"
    },
    {
     "data": {
      "image/png": "[encoded data removed]",
      "text/plain": [
       "<Figure size 432x288 with 1 Axes>"
      ]
     },
     "metadata": {
      "needs_background": "light"
     },
     "output_type": "display_data"
    }
   ],
   "source": [
    "# Plot the loss\n",
    "history_df.plot(y=\"accuracy\")"
   ]
  },
  {
   "cell_type": "code",
   "execution_count": 20,
   "metadata": {},
   "outputs": [],
   "source": [
    "# Generate our new Sequential model\n",
    "new_model = tf.keras.models.Sequential()"
   ]
  },
  {
   "cell_type": "code",
   "execution_count": 21,
   "metadata": {},
   "outputs": [],
   "source": [
    "# Add the input and hidden layer\n",
    "number_inputs = 2\n",
    "number_hidden_nodes = 6\n",
    "\n",
    "new_model.add(tf.keras.layers.Dense(units=number_hidden_nodes, activation=\"relu\", input_dim=number_inputs))\n",
    "\n",
    "# Add the output layer that uses a probability activation function\n",
    "new_model.add(tf.keras.layers.Dense(units=1, activation=\"sigmoid\"))"
   ]
  },
  {
   "cell_type": "code",
   "execution_count": 22,
   "metadata": {},
   "outputs": [
    {
     "name": "stdout",
     "output_type": "stream",
     "text": [
      "Epoch 1/100\n",
      "24/24 [==============================] - 0s 582us/step - loss: 0.6674 - accuracy: 0.5307\n",
      "Epoch 2/100\n",
      "24/24 [==============================] - 0s 581us/step - loss: 0.6408 - accuracy: 0.5307\n",
      "Epoch 3/100\n",
      "24/24 [==============================] - 0s 582us/step - loss: 0.6160 - accuracy: 0.5693\n",
      "Epoch 4/100\n",
      "24/24 [==============================] - 0s 540us/step - loss: 0.5917 - accuracy: 0.8173\n",
      "Epoch 5/100\n",
      "24/24 [==============================] - 0s 624us/step - loss: 0.5682 - accuracy: 0.8413\n",
      "Epoch 6/100\n",
      "24/24 [==============================] - 0s 622us/step - loss: 0.5450 - accuracy: 0.8440\n",
      "Epoch 7/100\n",
      "24/24 [==============================] - 0s 706us/step - loss: 0.5217 - accuracy: 0.8507\n",
      "Epoch 8/100\n",
      "24/24 [==============================] - 0s 800us/step - loss: 0.4983 - accuracy: 0.8453\n",
      "Epoch 9/100\n",
      "24/24 [==============================] - 0s 664us/step - loss: 0.4751 - accuracy: 0.8480\n",
      "Epoch 10/100\n",
      "24/24 [==============================] - 0s 581us/step - loss: 0.4525 - accuracy: 0.8507\n",
      "Epoch 11/100\n",
      "24/24 [==============================] - 0s 583us/step - loss: 0.4305 - accuracy: 0.8493\n",
      "Epoch 12/100\n",
      "24/24 [==============================] - 0s 582us/step - loss: 0.4101 - accuracy: 0.8507\n",
      "Epoch 13/100\n",
      "24/24 [==============================] - 0s 582us/step - loss: 0.3913 - accuracy: 0.8533\n",
      "Epoch 14/100\n",
      "24/24 [==============================] - 0s 623us/step - loss: 0.3743 - accuracy: 0.8547\n",
      "Epoch 15/100\n",
      "24/24 [==============================] - 0s 624us/step - loss: 0.3595 - accuracy: 0.8573\n",
      "Epoch 16/100\n",
      "24/24 [==============================] - 0s 540us/step - loss: 0.3468 - accuracy: 0.8573\n",
      "Epoch 17/100\n",
      "24/24 [==============================] - 0s 623us/step - loss: 0.3357 - accuracy: 0.8613\n",
      "Epoch 18/100\n",
      "24/24 [==============================] - 0s 582us/step - loss: 0.3264 - accuracy: 0.8640\n",
      "Epoch 19/100\n",
      "24/24 [==============================] - 0s 582us/step - loss: 0.3183 - accuracy: 0.8640\n",
      "Epoch 20/100\n",
      "24/24 [==============================] - 0s 549us/step - loss: 0.3110 - accuracy: 0.8667\n",
      "Epoch 21/100\n",
      "24/24 [==============================] - 0s 582us/step - loss: 0.3048 - accuracy: 0.8667\n",
      "Epoch 22/100\n",
      "24/24 [==============================] - 0s 623us/step - loss: 0.2995 - accuracy: 0.8680\n",
      "Epoch 23/100\n",
      "24/24 [==============================] - 0s 623us/step - loss: 0.2945 - accuracy: 0.8680\n",
      "Epoch 24/100\n",
      "24/24 [==============================] - 0s 623us/step - loss: 0.2903 - accuracy: 0.8693\n",
      "Epoch 25/100\n",
      "24/24 [==============================] - 0s 582us/step - loss: 0.2864 - accuracy: 0.8693\n",
      "Epoch 26/100\n",
      "24/24 [==============================] - 0s 623us/step - loss: 0.2828 - accuracy: 0.8693\n",
      "Epoch 27/100\n",
      "24/24 [==============================] - 0s 633us/step - loss: 0.2797 - accuracy: 0.8707\n",
      "Epoch 28/100\n",
      "24/24 [==============================] - 0s 623us/step - loss: 0.2767 - accuracy: 0.8747\n",
      "Epoch 29/100\n",
      "24/24 [==============================] - 0s 582us/step - loss: 0.2741 - accuracy: 0.8773\n",
      "Epoch 30/100\n",
      "24/24 [==============================] - 0s 623us/step - loss: 0.2717 - accuracy: 0.8787\n",
      "Epoch 31/100\n",
      "24/24 [==============================] - 0s 623us/step - loss: 0.2694 - accuracy: 0.8800\n",
      "Epoch 32/100\n",
      "24/24 [==============================] - 0s 623us/step - loss: 0.2674 - accuracy: 0.8840\n",
      "Epoch 33/100\n",
      "24/24 [==============================] - 0s 582us/step - loss: 0.2656 - accuracy: 0.8840\n",
      "Epoch 34/100\n",
      "24/24 [==============================] - 0s 706us/step - loss: 0.2638 - accuracy: 0.8867\n",
      "Epoch 35/100\n",
      "24/24 [==============================] - 0s 582us/step - loss: 0.2622 - accuracy: 0.8893\n",
      "Epoch 36/100\n",
      "24/24 [==============================] - 0s 540us/step - loss: 0.2607 - accuracy: 0.8893\n",
      "Epoch 37/100\n",
      "24/24 [==============================] - 0s 623us/step - loss: 0.2592 - accuracy: 0.8893\n",
      "Epoch 38/100\n",
      "24/24 [==============================] - 0s 540us/step - loss: 0.2578 - accuracy: 0.8907\n",
      "Epoch 39/100\n",
      "24/24 [==============================] - 0s 540us/step - loss: 0.2564 - accuracy: 0.8907\n",
      "Epoch 40/100\n",
      "24/24 [==============================] - 0s 766us/step - loss: 0.2553 - accuracy: 0.8907\n",
      "Epoch 41/100\n",
      "24/24 [==============================] - 0s 617us/step - loss: 0.2541 - accuracy: 0.8907\n",
      "Epoch 42/100\n",
      "24/24 [==============================] - 0s 623us/step - loss: 0.2530 - accuracy: 0.8920\n",
      "Epoch 43/100\n",
      "24/24 [==============================] - 0s 540us/step - loss: 0.2521 - accuracy: 0.8920\n",
      "Epoch 44/100\n",
      "24/24 [==============================] - 0s 582us/step - loss: 0.2511 - accuracy: 0.8920\n",
      "Epoch 45/100\n",
      "24/24 [==============================] - 0s 582us/step - loss: 0.2503 - accuracy: 0.8933\n",
      "Epoch 46/100\n",
      "24/24 [==============================] - 0s 540us/step - loss: 0.2493 - accuracy: 0.8933\n",
      "Epoch 47/100\n",
      "24/24 [==============================] - 0s 540us/step - loss: 0.2484 - accuracy: 0.8933\n",
      "Epoch 48/100\n",
      "24/24 [==============================] - 0s 582us/step - loss: 0.2477 - accuracy: 0.8933\n",
      "Epoch 49/100\n",
      "24/24 [==============================] - 0s 541us/step - loss: 0.2468 - accuracy: 0.8947\n",
      "Epoch 50/100\n",
      "24/24 [==============================] - 0s 583us/step - loss: 0.2460 - accuracy: 0.8960\n",
      "Epoch 51/100\n",
      "24/24 [==============================] - 0s 582us/step - loss: 0.2452 - accuracy: 0.8960\n",
      "Epoch 52/100\n",
      "24/24 [==============================] - 0s 540us/step - loss: 0.2444 - accuracy: 0.8960\n",
      "Epoch 53/100\n",
      "24/24 [==============================] - 0s 540us/step - loss: 0.2438 - accuracy: 0.8960\n",
      "Epoch 54/100\n",
      "24/24 [==============================] - 0s 581us/step - loss: 0.2429 - accuracy: 0.8960\n",
      "Epoch 55/100\n",
      "24/24 [==============================] - 0s 582us/step - loss: 0.2421 - accuracy: 0.8973\n",
      "Epoch 56/100\n",
      "24/24 [==============================] - 0s 582us/step - loss: 0.2415 - accuracy: 0.8960\n",
      "Epoch 57/100\n",
      "24/24 [==============================] - 0s 707us/step - loss: 0.2407 - accuracy: 0.9000\n",
      "Epoch 58/100\n",
      "24/24 [==============================] - 0s 581us/step - loss: 0.2398 - accuracy: 0.9000\n",
      "Epoch 59/100\n",
      "24/24 [==============================] - 0s 582us/step - loss: 0.2389 - accuracy: 0.9000\n",
      "Epoch 60/100\n",
      "24/24 [==============================] - 0s 540us/step - loss: 0.2382 - accuracy: 0.9000\n",
      "Epoch 61/100\n",
      "24/24 [==============================] - 0s 499us/step - loss: 0.2372 - accuracy: 0.9013\n",
      "Epoch 62/100\n",
      "24/24 [==============================] - 0s 540us/step - loss: 0.2365 - accuracy: 0.9027\n",
      "Epoch 63/100\n",
      "24/24 [==============================] - 0s 499us/step - loss: 0.2356 - accuracy: 0.9040\n",
      "Epoch 64/100\n",
      "24/24 [==============================] - 0s 499us/step - loss: 0.2347 - accuracy: 0.9040\n",
      "Epoch 65/100\n",
      "24/24 [==============================] - 0s 499us/step - loss: 0.2339 - accuracy: 0.9053\n",
      "Epoch 66/100\n",
      "24/24 [==============================] - 0s 543us/step - loss: 0.2331 - accuracy: 0.9040\n",
      "Epoch 67/100\n",
      "24/24 [==============================] - 0s 554us/step - loss: 0.2322 - accuracy: 0.9053\n",
      "Epoch 68/100\n",
      "24/24 [==============================] - 0s 541us/step - loss: 0.2313 - accuracy: 0.9053\n",
      "Epoch 69/100\n",
      "24/24 [==============================] - 0s 665us/step - loss: 0.2305 - accuracy: 0.9053\n",
      "Epoch 70/100\n",
      "24/24 [==============================] - 0s 582us/step - loss: 0.2294 - accuracy: 0.9053\n",
      "Epoch 71/100\n",
      "24/24 [==============================] - 0s 582us/step - loss: 0.2286 - accuracy: 0.9053\n",
      "Epoch 72/100\n",
      "24/24 [==============================] - 0s 623us/step - loss: 0.2275 - accuracy: 0.9053\n",
      "Epoch 73/100\n",
      "24/24 [==============================] - 0s 582us/step - loss: 0.2265 - accuracy: 0.9053\n",
      "Epoch 74/100\n",
      "24/24 [==============================] - 0s 623us/step - loss: 0.2255 - accuracy: 0.9067\n",
      "Epoch 75/100\n",
      "24/24 [==============================] - 0s 622us/step - loss: 0.2246 - accuracy: 0.9067\n",
      "Epoch 76/100\n",
      "24/24 [==============================] - 0s 540us/step - loss: 0.2236 - accuracy: 0.9053\n",
      "Epoch 77/100\n",
      "24/24 [==============================] - 0s 581us/step - loss: 0.2226 - accuracy: 0.9067\n",
      "Epoch 78/100\n",
      "24/24 [==============================] - 0s 582us/step - loss: 0.2215 - accuracy: 0.9093\n",
      "Epoch 79/100\n",
      "24/24 [==============================] - 0s 582us/step - loss: 0.2205 - accuracy: 0.9093\n",
      "Epoch 80/100\n",
      "24/24 [==============================] - 0s 592us/step - loss: 0.2195 - accuracy: 0.9093\n",
      "Epoch 81/100\n"
     ]
    },
    {
     "name": "stdout",
     "output_type": "stream",
     "text": [
      "24/24 [==============================] - 0s 540us/step - loss: 0.2183 - accuracy: 0.9093\n",
      "Epoch 82/100\n",
      "24/24 [==============================] - 0s 541us/step - loss: 0.2174 - accuracy: 0.9093\n",
      "Epoch 83/100\n",
      "24/24 [==============================] - 0s 582us/step - loss: 0.2163 - accuracy: 0.9093\n",
      "Epoch 84/100\n",
      "24/24 [==============================] - 0s 582us/step - loss: 0.2152 - accuracy: 0.9080\n",
      "Epoch 85/100\n",
      "24/24 [==============================] - 0s 499us/step - loss: 0.2141 - accuracy: 0.9107\n",
      "Epoch 86/100\n",
      "24/24 [==============================] - 0s 519us/step - loss: 0.2132 - accuracy: 0.9107\n",
      "Epoch 87/100\n",
      "24/24 [==============================] - 0s 499us/step - loss: 0.2118 - accuracy: 0.9120\n",
      "Epoch 88/100\n",
      "24/24 [==============================] - 0s 540us/step - loss: 0.2108 - accuracy: 0.9107\n",
      "Epoch 89/100\n",
      "24/24 [==============================] - 0s 540us/step - loss: 0.2097 - accuracy: 0.9120\n",
      "Epoch 90/100\n",
      "24/24 [==============================] - 0s 499us/step - loss: 0.2086 - accuracy: 0.9120\n",
      "Epoch 91/100\n",
      "24/24 [==============================] - 0s 499us/step - loss: 0.2075 - accuracy: 0.9133\n",
      "Epoch 92/100\n",
      "24/24 [==============================] - 0s 457us/step - loss: 0.2065 - accuracy: 0.9133\n",
      "Epoch 93/100\n",
      "24/24 [==============================] - 0s 499us/step - loss: 0.2054 - accuracy: 0.9133\n",
      "Epoch 94/100\n",
      "24/24 [==============================] - 0s 499us/step - loss: 0.2044 - accuracy: 0.9133\n",
      "Epoch 95/100\n",
      "24/24 [==============================] - 0s 499us/step - loss: 0.2032 - accuracy: 0.9147\n",
      "Epoch 96/100\n",
      "24/24 [==============================] - 0s 540us/step - loss: 0.2021 - accuracy: 0.9160\n",
      "Epoch 97/100\n",
      "24/24 [==============================] - 0s 582us/step - loss: 0.2010 - accuracy: 0.9173\n",
      "Epoch 98/100\n",
      "24/24 [==============================] - 0s 540us/step - loss: 0.2000 - accuracy: 0.9187\n",
      "Epoch 99/100\n",
      "24/24 [==============================] - 0s 582us/step - loss: 0.1989 - accuracy: 0.9187\n",
      "Epoch 100/100\n",
      "24/24 [==============================] - 0s 540us/step - loss: 0.1979 - accuracy: 0.9173\n"
     ]
    }
   ],
   "source": [
    "# Compile the Sequential model together and customize metrics\n",
    "new_model.compile(loss=\"binary_crossentropy\", optimizer=\"adam\", metrics=[\"accuracy\"])\n",
    "\n",
    "# Fit the model to the training data\n",
    "new_fit_model = new_model.fit(X_moon_train_scaled, y_moon_train, epochs=100, shuffle=True)"
   ]
  },
  {
   "cell_type": "code",
   "execution_count": null,
   "metadata": {},
   "outputs": [],
   "source": []
  }
 ],
 "metadata": {
  "kernelspec": {
   "display_name": "Python 3",
   "language": "python",
   "name": "python3"
  },
  "language_info": {
   "codemirror_mode": {
    "name": "ipython",
    "version": 3
   },
   "file_extension": ".py",
   "mimetype": "text/x-python",
   "name": "python",
   "nbconvert_exporter": "python",
   "pygments_lexer": "ipython3",
   "version": "3.8.3"
  }
 },
 "nbformat": 4,
 "nbformat_minor": 4
}
